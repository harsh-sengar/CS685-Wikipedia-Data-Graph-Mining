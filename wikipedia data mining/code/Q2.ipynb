{
 "cells": [
  {
   "cell_type": "code",
   "execution_count": 14,
   "metadata": {},
   "outputs": [],
   "source": [
    "import pandas as pd\n",
    "from functools import reduce  \n",
    "import operator\n",
    "import collections\n",
    "import networkx as nx\n",
    "from collections import Mapping"
   ]
  },
  {
   "cell_type": "code",
   "execution_count": 15,
   "metadata": {},
   "outputs": [],
   "source": [
    "df = pd.read_csv(\"categories.tsv\", delimiter = \"\\t\", names = [\"0\",\"1\"] )\n",
    "df = df[12:]\n",
    "df = df[\"1\"]"
   ]
  },
  {
   "cell_type": "code",
   "execution_count": 16,
   "metadata": {},
   "outputs": [],
   "source": [
    "def getTree(dataDict, keyList):\n",
    "    return reduce(operator.getitem, keyList, dataDict)\n",
    "\n",
    "def setCategory(dataDict, keyList, category):\n",
    "        if category not in getTree(dataDict, keyList[:-1])[keyList[-1]]:\n",
    "            getTree(dataDict, keyList[:-1])[keyList[-1]].update({category:{}})"
   ]
  },
  {
   "cell_type": "code",
   "execution_count": 17,
   "metadata": {},
   "outputs": [],
   "source": [
    "Hierarchy = {}\n",
    "Hierarchy['subject'] = {}\n",
    "def buildTree(categoriesData):\n",
    "    for categories in categoriesData:\n",
    "        categories = categories.replace(\".\",\" \")\n",
    "        categories = categories.split()\n",
    "        categories_merged = []\n",
    "        for category in categories:\n",
    "            if len(categories_merged):\n",
    "                categories_merged.append(categories_merged[-1] + \".\" + category)\n",
    "            else:\n",
    "                categories_merged.append(category)\n",
    "                \n",
    "        keys = []\n",
    "        for category in categories_merged:\n",
    "            if(keys):\n",
    "                setCategory(Hierarchy, keys, category)\n",
    "            keys.append(category)\n"
   ]
  },
  {
   "cell_type": "code",
   "execution_count": 18,
   "metadata": {},
   "outputs": [],
   "source": [
    "buildTree(df)"
   ]
  },
  {
   "cell_type": "code",
   "execution_count": null,
   "metadata": {},
   "outputs": [],
   "source": []
  },
  {
   "cell_type": "code",
   "execution_count": null,
   "metadata": {},
   "outputs": [],
   "source": []
  },
  {
   "cell_type": "code",
   "execution_count": null,
   "metadata": {},
   "outputs": [],
   "source": []
  },
  {
   "cell_type": "code",
   "execution_count": null,
   "metadata": {},
   "outputs": [],
   "source": []
  },
  {
   "cell_type": "markdown",
   "metadata": {},
   "source": [
    "### Iterate Dictionary"
   ]
  },
  {
   "cell_type": "code",
   "execution_count": 19,
   "metadata": {},
   "outputs": [],
   "source": [
    "def categoriesAlphabetical(d):\n",
    "    for k, v in d.items():\n",
    "        if isinstance(v, dict):  \n",
    "            v = dict(collections.OrderedDict(sorted(v.items())))\n",
    "            categoriesAlphabetical(v)\n",
    "            d[k] = v\n",
    "            "
   ]
  },
  {
   "cell_type": "code",
   "execution_count": 20,
   "metadata": {},
   "outputs": [],
   "source": [
    "categoriesAlphabetical(Hierarchy)"
   ]
  },
  {
   "cell_type": "code",
   "execution_count": null,
   "metadata": {},
   "outputs": [],
   "source": []
  },
  {
   "cell_type": "code",
   "execution_count": null,
   "metadata": {},
   "outputs": [],
   "source": []
  },
  {
   "cell_type": "code",
   "execution_count": null,
   "metadata": {},
   "outputs": [],
   "source": []
  },
  {
   "cell_type": "code",
   "execution_count": 21,
   "metadata": {},
   "outputs": [],
   "source": [
    "def assignCategoryId(Hierarchy, G):\n",
    "    c = 1\n",
    "    categories_id = []\n",
    "    q = list(Hierarchy.items())\n",
    "    categories_id.append(('subject',\"C\"+\"%04d\"%c))\n",
    "    while q:\n",
    "        v, d = q.pop()\n",
    "        for nv, nd in d.items():\n",
    "            G.add_edge(v, nv)\n",
    "            c = c + 1\n",
    "            categories_id.append((nv,\"C\"+\"%04d\"%c))     \n",
    "            if isinstance(nd, Mapping):\n",
    "                q.append((nv,nd))\n",
    "    return categories_id"
   ]
  },
  {
   "cell_type": "code",
   "execution_count": 22,
   "metadata": {},
   "outputs": [],
   "source": [
    "G = nx.DiGraph()\n",
    "categories_id = assignCategoryId(Hierarchy, G)"
   ]
  },
  {
   "cell_type": "code",
   "execution_count": 23,
   "metadata": {},
   "outputs": [],
   "source": [
    "#nx.draw(G, with_labels = True)"
   ]
  },
  {
   "cell_type": "code",
   "execution_count": 24,
   "metadata": {},
   "outputs": [
    {
     "data": {
      "text/plain": [
       "146"
      ]
     },
     "execution_count": 24,
     "metadata": {},
     "output_type": "execute_result"
    }
   ],
   "source": [
    "len(G.nodes())"
   ]
  },
  {
   "cell_type": "code",
   "execution_count": 26,
   "metadata": {},
   "outputs": [],
   "source": [
    "df_categories = pd.DataFrame(categories_id)\n",
    "df_categories.to_csv (r'category-ids.csv', header = [\"Category_Name\", \"Category_ID\"])"
   ]
  },
  {
   "cell_type": "code",
   "execution_count": null,
   "metadata": {},
   "outputs": [],
   "source": []
  },
  {
   "cell_type": "code",
   "execution_count": null,
   "metadata": {},
   "outputs": [],
   "source": []
  },
  {
   "cell_type": "code",
   "execution_count": null,
   "metadata": {},
   "outputs": [],
   "source": []
  },
  {
   "cell_type": "code",
   "execution_count": null,
   "metadata": {},
   "outputs": [],
   "source": []
  },
  {
   "cell_type": "code",
   "execution_count": null,
   "metadata": {},
   "outputs": [],
   "source": []
  }
 ],
 "metadata": {
  "kernelspec": {
   "display_name": "Python 3",
   "language": "python",
   "name": "python3"
  },
  "language_info": {
   "codemirror_mode": {
    "name": "ipython",
    "version": 3
   },
   "file_extension": ".py",
   "mimetype": "text/x-python",
   "name": "python",
   "nbconvert_exporter": "python",
   "pygments_lexer": "ipython3",
   "version": "3.7.6"
  }
 },
 "nbformat": 4,
 "nbformat_minor": 4
}
