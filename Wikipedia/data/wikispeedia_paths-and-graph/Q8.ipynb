{
 "cells": [
  {
   "cell_type": "code",
   "execution_count": 182,
   "metadata": {},
   "outputs": [],
   "source": [
    "import pandas as pd\n",
    "import numpy as np\n",
    "import collections"
   ]
  },
  {
   "cell_type": "code",
   "execution_count": 2,
   "metadata": {},
   "outputs": [],
   "source": [
    "df = pd.read_csv(\"paths_finished.tsv\", delimiter = '\\n', header = None)\n",
    "df = df[15:]\n",
    "df = df[0]"
   ]
  },
  {
   "cell_type": "code",
   "execution_count": null,
   "metadata": {},
   "outputs": [],
   "source": []
  },
  {
   "cell_type": "code",
   "execution_count": 3,
   "metadata": {},
   "outputs": [],
   "source": [
    "df_path_finished = pd.read_csv(\"paths_finished.tsv\", delimiter = '\\n', header = None)\n",
    "df_path_finished = df_path_finished[15:]\n",
    "df_path_finished = df_path_finished[0]"
   ]
  },
  {
   "cell_type": "code",
   "execution_count": 4,
   "metadata": {},
   "outputs": [],
   "source": [
    "article_id = pd.read_csv('article-ids.csv', header = None)\n",
    "del article_id[0]\n",
    "article1 = list(article_id[1])\n",
    "article2 = list(article_id[2])\n",
    "\n",
    "article_id = {article1[i] : article2[i] for i in range(len(article1))}"
   ]
  },
  {
   "cell_type": "code",
   "execution_count": 5,
   "metadata": {},
   "outputs": [],
   "source": [
    "category_id = pd.read_csv('category-ids.csv', header = None)\n",
    "del category_id[0]\n",
    "category1 = list(category_id[1])\n",
    "category2 = list(category_id[2])\n",
    "\n",
    "category_id = {category2[i] : category1[i] for i in range(len(category1))}"
   ]
  },
  {
   "cell_type": "code",
   "execution_count": 6,
   "metadata": {},
   "outputs": [],
   "source": [
    "edge = pd.read_csv(\"edges.csv\", header = None)\n",
    "node1 = edge[1]\n",
    "node2 = edge[2]\n",
    "\n",
    "i = 0\n",
    "adj_list = {}\n",
    "for node in node1:\n",
    "    if node not in adj_list:\n",
    "                adj_list[node] = []\n",
    "    if node2[i] not in adj_list:\n",
    "                adj_list[node2[i]] = []\n",
    "    adj_list[node].append(node2[i])\n",
    "    adj_list[node2[i]].append(node)\n",
    "    \n",
    "    i = i + 1\n",
    "    \n",
    "for node in adj_list:\n",
    "    adj_list[node] = list(set(adj_list[node]))"
   ]
  },
  {
   "cell_type": "code",
   "execution_count": 7,
   "metadata": {},
   "outputs": [],
   "source": [
    "df_category = pd.read_csv(\"article-categories.csv\", header = None)\n",
    "df_category = df_category.where(pd.notnull(df_category), None)"
   ]
  },
  {
   "cell_type": "code",
   "execution_count": 8,
   "metadata": {},
   "outputs": [],
   "source": [
    "article_category = {}\n",
    "for row in range(len(df_category)):\n",
    "    article_category[(df_category[1][row])] = [(df_category[2][row])]\n",
    "    \n",
    "    if (df_category[3][row]) != None:\n",
    "        article_category[(df_category[1][row])].append(df_category[3][row])\n",
    "    if (df_category[4][row]) != None:\n",
    "        article_category[(df_category[1][row])].append(df_category[4][row])"
   ]
  },
  {
   "cell_type": "code",
   "execution_count": 16,
   "metadata": {},
   "outputs": [],
   "source": [
    "node_visited = {}\n",
    "def bfs(visited, queue, graph, node, target):\n",
    "    \n",
    "    if node in node_visited:\n",
    "        parent = node_visited[node]\n",
    "        path = []\n",
    "        while (target in parent) and parent[target] != target:\n",
    "            path.append(target)\n",
    "            target = parent[target]\n",
    "             \n",
    "        path.append(target)\n",
    "        path = path[::-1]\n",
    "        return path\n",
    "        \n",
    "    visited.append(node)\n",
    "    queue.append(node)\n",
    "    component = []\n",
    "    parent = {}\n",
    "    parent[node] = node\n",
    "    while queue:\n",
    "        s = queue.pop(0) \n",
    "        component.append(s) \n",
    "\n",
    "        if s in graph:\n",
    "            for neighbour in graph[s]:\n",
    "                  if neighbour not in visited:\n",
    "                    visited.append(neighbour)\n",
    "                    queue.append(neighbour)\n",
    "                    parent[neighbour] = s\n",
    "                    \n",
    "    path = []\n",
    "    while parent[target] != target:\n",
    "        path.append(target)\n",
    "        target = parent[target]\n",
    "        \n",
    "    path.append(target)\n",
    "    path = path[::-1]\n",
    "    node_visited[node] = parent\n",
    "    \n",
    "    return path"
   ]
  },
  {
   "cell_type": "code",
   "execution_count": null,
   "metadata": {},
   "outputs": [],
   "source": []
  },
  {
   "cell_type": "code",
   "execution_count": 63,
   "metadata": {},
   "outputs": [],
   "source": [
    "def check_shortest_path(i, source, target):\n",
    "    info = df_path_finished[i]\n",
    "    info = info.split()\n",
    "    article = info[3].replace(\";\", \" \")\n",
    "    back = (article.count('<'))\n",
    "    article = article.replace(\"< \", \"\")\n",
    "    article = list(article.split(\" \"))\n",
    "    source = article[0]\n",
    "    target = article[-1]\n",
    "\n",
    "    visited = [] \n",
    "    queue = []  \n",
    "    print((bfs(visited, queue, adj_list, article_id[source], article_id[target])))\n"
   ]
  },
  {
   "cell_type": "code",
   "execution_count": 167,
   "metadata": {},
   "outputs": [],
   "source": [
    "article_path_finished = []"
   ]
  },
  {
   "cell_type": "code",
   "execution_count": 168,
   "metadata": {},
   "outputs": [],
   "source": [
    "#for info in df_path_finished:\n",
    "#    info = info.split()\n",
    "#    article = info[3].replace(\";\", \" \")\n",
    "#    back = (article.count('<'))\n",
    "#    article = article.replace(\"< \", \"\")\n",
    "#    article = list(article.split(\" \"))\n",
    "#    source = article[0]\n",
    "#    target = article[-1]\n",
    "    \n",
    "#    visited = [] \n",
    "#    queue = []  \n",
    "#    article_path_finished.append((bfs(visited, queue, adj_list, article_id[source], article_id[target])))"
   ]
  },
  {
   "cell_type": "code",
   "execution_count": null,
   "metadata": {},
   "outputs": [],
   "source": []
  },
  {
   "cell_type": "code",
   "execution_count": 54,
   "metadata": {},
   "outputs": [],
   "source": []
  },
  {
   "cell_type": "code",
   "execution_count": 170,
   "metadata": {},
   "outputs": [],
   "source": [
    "#df_article_path_finished = pd.DataFrame(article_path_finished)\n",
    "#df_article_path_finished.to_csv (r'article_shortest_path_finished.csv', header=False)"
   ]
  },
  {
   "cell_type": "code",
   "execution_count": 171,
   "metadata": {},
   "outputs": [],
   "source": [
    "df_article_path_finished = pd.read_csv(\"article_shortest_path_finished.csv\", header = None)\n"
   ]
  },
  {
   "cell_type": "code",
   "execution_count": 172,
   "metadata": {},
   "outputs": [],
   "source": [
    "df_article_path_finished = df_article_path_finished.where(pd.notnull(df_article_path_finished), None)\n",
    "del df_article_path_finished[0]\n",
    "df_article_path_finished = np.array(df_article_path_finished)"
   ]
  },
  {
   "cell_type": "code",
   "execution_count": 173,
   "metadata": {},
   "outputs": [],
   "source": [
    "category_times = {}\n",
    "category_path = {}"
   ]
  },
  {
   "cell_type": "code",
   "execution_count": 174,
   "metadata": {},
   "outputs": [],
   "source": [
    "i = 0\n",
    "for info in df_path_finished:\n",
    "    info = info.split()\n",
    "    article = info[3].replace(\";\", \" \")\n",
    "    back = (article.count('<'))\n",
    "    article = article.replace(\"< \", \"\")\n",
    "    articles = list(article.split(\" \"))\n",
    "    \n",
    "    for article in articles:\n",
    "        categories = article_category[article_id[article]]\n",
    "        \n",
    "        for category in categories:\n",
    "            if category not in category_times:\n",
    "                category_times[category] = 1\n",
    "            else:\n",
    "                category_times[category] = category_times[category] + 1\n",
    "            \n",
    "            if category not in category_path:\n",
    "                category_path[category] = [i]\n",
    "            else:\n",
    "                category_path[category].append(i)\n",
    "                \n",
    "                \n",
    "        i = i + 1\n",
    "    \n",
    "    "
   ]
  },
  {
   "cell_type": "code",
   "execution_count": 175,
   "metadata": {},
   "outputs": [],
   "source": [
    "for category in category_path:\n",
    "        category_path[category] = len(list(set(category_path[category])))"
   ]
  },
  {
   "cell_type": "code",
   "execution_count": 176,
   "metadata": {},
   "outputs": [
    {
     "data": {
      "text/plain": [
       "array([['A0011', 'A0020', 'A0144', None, None],\n",
       "       ['A0011', 'A0020', 'A0144', None, None],\n",
       "       ['A0011', 'A0020', 'A0144', None, None],\n",
       "       ...,\n",
       "       ['A4559', 'A0318', 'A2963', 'A4274', None],\n",
       "       ['A4563', 'A2748', 'A0098', None, None],\n",
       "       ['A4595', 'A0312', 'A2245', None, None]], dtype=object)"
      ]
     },
     "execution_count": 176,
     "metadata": {},
     "output_type": "execute_result"
    }
   ],
   "source": [
    "df_article_path_finished"
   ]
  },
  {
   "cell_type": "code",
   "execution_count": 177,
   "metadata": {},
   "outputs": [],
   "source": [
    "shortest_category_times = {}\n",
    "shortest_category_path = {}"
   ]
  },
  {
   "cell_type": "code",
   "execution_count": 178,
   "metadata": {},
   "outputs": [],
   "source": [
    "for i in range(len(df_article_path_finished)):\n",
    "    \n",
    "    articles = (df_article_path_finished[i,:])\n",
    "    for article in articles:\n",
    "        if article != None:\n",
    "            categories = article_category[article]\n",
    "\n",
    "            for category in categories:\n",
    "                if category not in shortest_category_times:\n",
    "                    shortest_category_times[category] = 1\n",
    "                else:\n",
    "                    shortest_category_times[category] = shortest_category_times[category] + 1\n",
    "\n",
    "                if category not in shortest_category_path:\n",
    "                    shortest_category_path[category] = [i]\n",
    "                else:\n",
    "                    shortest_category_path[category].append(i)\n",
    "\n"
   ]
  },
  {
   "cell_type": "code",
   "execution_count": 190,
   "metadata": {},
   "outputs": [],
   "source": [
    "for category in shortest_category_path:\n",
    "        shortest_category_path[category] = len(list(set(shortest_category_path[category])))"
   ]
  },
  {
   "cell_type": "code",
   "execution_count": 191,
   "metadata": {},
   "outputs": [],
   "source": [
    "category_times = dict(collections.OrderedDict(sorted(category_times.items())))\n",
    "category_path = dict(collections.OrderedDict(sorted(category_path.items())))\n",
    "shortest_category_times = dict(collections.OrderedDict(sorted(shortest_category_times.items())))\n",
    "shortest_category_path = dict(collections.OrderedDict(sorted(shortest_category_path.items())))"
   ]
  },
  {
   "cell_type": "code",
   "execution_count": null,
   "metadata": {},
   "outputs": [],
   "source": []
  },
  {
   "cell_type": "code",
   "execution_count": 192,
   "metadata": {},
   "outputs": [],
   "source": [
    "output = []\n",
    "for i in range(1,147):\n",
    "    category = \"C\"+\"%04d\"%i\n",
    "    c_t = 0\n",
    "    c_p = 0\n",
    "    s_p = 0\n",
    "    s_t = 0\n",
    "    if category in category_times:\n",
    "        c_t = category_times[category] \n",
    "    if category in category_times:\n",
    "        c_p = category_path[category] \n",
    "    if category in category_times:\n",
    "        s_t = shortest_category_times[category] \n",
    "    if category in category_times:\n",
    "        s_p = shortest_category_path[category] \n",
    "        \n",
    "    output.append([category, c_p, c_t, s_p, s_t])"
   ]
  },
  {
   "cell_type": "code",
   "execution_count": null,
   "metadata": {},
   "outputs": [],
   "source": []
  },
  {
   "cell_type": "code",
   "execution_count": 194,
   "metadata": {},
   "outputs": [],
   "source": [
    "df_output = pd.DataFrame(output)\n",
    "df_output.to_csv (r'category-paths.csv', header=False)"
   ]
  },
  {
   "cell_type": "code",
   "execution_count": null,
   "metadata": {},
   "outputs": [],
   "source": []
  },
  {
   "cell_type": "code",
   "execution_count": null,
   "metadata": {},
   "outputs": [],
   "source": []
  }
 ],
 "metadata": {
  "kernelspec": {
   "display_name": "Python 3",
   "language": "python",
   "name": "python3"
  },
  "language_info": {
   "codemirror_mode": {
    "name": "ipython",
    "version": 3
   },
   "file_extension": ".py",
   "mimetype": "text/x-python",
   "name": "python",
   "nbconvert_exporter": "python",
   "pygments_lexer": "ipython3",
   "version": "3.7.6"
  }
 },
 "nbformat": 4,
 "nbformat_minor": 4
}
