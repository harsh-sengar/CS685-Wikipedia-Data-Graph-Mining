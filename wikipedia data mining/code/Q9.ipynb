{
 "cells": [
  {
   "cell_type": "code",
   "execution_count": 1,
   "metadata": {},
   "outputs": [],
   "source": [
    "import pandas as pd"
   ]
  },
  {
   "cell_type": "code",
   "execution_count": 9,
   "metadata": {},
   "outputs": [],
   "source": [
    "df_category_path = pd.read_csv(\"category-paths.csv\")\n",
    "df_category_path.columns = [0,1,2,3,4,5]"
   ]
  },
  {
   "cell_type": "code",
   "execution_count": 10,
   "metadata": {},
   "outputs": [],
   "source": [
    "category_path = {}\n",
    "for i in range(len(df_category_path)):\n",
    "    category_path[df_category_path[1][i]] = [df_category_path[2][i], df_category_path[3][i], df_category_path[4][i], df_category_path[5][i]]"
   ]
  },
  {
   "cell_type": "code",
   "execution_count": 11,
   "metadata": {},
   "outputs": [],
   "source": [
    "category_id = pd.read_csv('category-ids.csv', header = None)\n",
    "del category_id[0]\n",
    "category1 = list(category_id[1])\n",
    "category2 = list(category_id[2])\n",
    "\n",
    "category_id = {category2[i] : category1[i] for i in range(len(category1))}\n",
    "id_category = {category1[i] : category2[i] for i in range(len(category1))}"
   ]
  },
  {
   "cell_type": "code",
   "execution_count": 12,
   "metadata": {},
   "outputs": [],
   "source": [
    "for category in category_id:\n",
    "    sub_category = (category_id[category]).split(\".\")\n",
    "    if (len(sub_category)) > 1:\n",
    "        cat = \"\"\n",
    "        for s in sub_category:\n",
    "            if cat != \"\":\n",
    "                category_path[id_category[cat]] = [a + b for a, b in zip(category_path[id_category[cat]],category_path[category])]\n",
    "                cat = cat + \".\" + s\n",
    "            else:\n",
    "                cat = s"
   ]
  },
  {
   "cell_type": "code",
   "execution_count": 13,
   "metadata": {},
   "outputs": [],
   "source": [
    "category_sub_path = []\n",
    "for category in category_path:\n",
    "    category_sub_path.append([category] + category_path[category])"
   ]
  },
  {
   "cell_type": "code",
   "execution_count": 14,
   "metadata": {},
   "outputs": [],
   "source": [
    "df_category_sub_path = pd.DataFrame(category_sub_path)\n",
    "df_category_sub_path.to_csv (r'category-subtree-paths.csv',  header = [\"Category_ID\", \"Number_of_paths_traversed\", \"Number_of_times_traversed\", \"Number_of_shortest_paths_traversed\", \"Number_of_times_shortest_times_traversed\"])"
   ]
  },
  {
   "cell_type": "code",
   "execution_count": null,
   "metadata": {},
   "outputs": [],
   "source": []
  },
  {
   "cell_type": "code",
   "execution_count": null,
   "metadata": {},
   "outputs": [],
   "source": []
  },
  {
   "cell_type": "code",
   "execution_count": null,
   "metadata": {},
   "outputs": [],
   "source": []
  },
  {
   "cell_type": "code",
   "execution_count": null,
   "metadata": {},
   "outputs": [],
   "source": []
  },
  {
   "cell_type": "code",
   "execution_count": null,
   "metadata": {},
   "outputs": [],
   "source": []
  },
  {
   "cell_type": "code",
   "execution_count": null,
   "metadata": {},
   "outputs": [],
   "source": []
  },
  {
   "cell_type": "code",
   "execution_count": null,
   "metadata": {},
   "outputs": [],
   "source": []
  },
  {
   "cell_type": "code",
   "execution_count": null,
   "metadata": {},
   "outputs": [],
   "source": []
  }
 ],
 "metadata": {
  "kernelspec": {
   "display_name": "Python 3",
   "language": "python",
   "name": "python3"
  },
  "language_info": {
   "codemirror_mode": {
    "name": "ipython",
    "version": 3
   },
   "file_extension": ".py",
   "mimetype": "text/x-python",
   "name": "python",
   "nbconvert_exporter": "python",
   "pygments_lexer": "ipython3",
   "version": "3.7.6"
  }
 },
 "nbformat": 4,
 "nbformat_minor": 4
}
