{
 "cells": [
  {
   "cell_type": "code",
   "execution_count": 71,
   "metadata": {},
   "outputs": [],
   "source": [
    "import pandas as pd\n",
    "from statistics import mean"
   ]
  },
  {
   "cell_type": "code",
   "execution_count": 72,
   "metadata": {},
   "outputs": [],
   "source": [
    "df = pd.read_csv(\"finished-paths-back.csv\", delimiter = '\\n', header = None)"
   ]
  },
  {
   "cell_type": "code",
   "execution_count": 73,
   "metadata": {},
   "outputs": [],
   "source": [
    "df = list(df[0])\n",
    "#df = df.split(\",\")\n",
    "\n",
    "ratio = []\n",
    "for r in df:\n",
    "    ratio.append(r.split(\",\")[3])"
   ]
  },
  {
   "cell_type": "code",
   "execution_count": 74,
   "metadata": {},
   "outputs": [],
   "source": [
    "df_path_finished = pd.read_csv(\"paths_finished.tsv\", delimiter = '\\n', header = None)\n",
    "df_path_finished = df_path_finished[15:]\n",
    "df_path_finished = df_path_finished[0]"
   ]
  },
  {
   "cell_type": "code",
   "execution_count": 75,
   "metadata": {},
   "outputs": [],
   "source": [
    "df_category = pd.read_csv(\"article-categories.csv\", header = None)\n",
    "df_category = df_category.where(pd.notnull(df_category), None)"
   ]
  },
  {
   "cell_type": "code",
   "execution_count": 76,
   "metadata": {},
   "outputs": [],
   "source": [
    "article_id = pd.read_csv('article-ids.csv', header = None)\n",
    "del article_id[0]\n",
    "article1 = list(article_id[1])\n",
    "article2 = list(article_id[2])\n",
    "\n",
    "article_id = {article1[i] : article2[i] for i in range(len(article1))}"
   ]
  },
  {
   "cell_type": "code",
   "execution_count": 77,
   "metadata": {},
   "outputs": [],
   "source": [
    "category_id = pd.read_csv('category-ids.csv', header = None)\n",
    "del category_id[0]\n",
    "category1 = list(category_id[1])\n",
    "category2 = list(category_id[2])\n",
    "\n",
    "category_id = {category2[i] : category1[i] for i in range(len(category1))}"
   ]
  },
  {
   "cell_type": "code",
   "execution_count": 78,
   "metadata": {},
   "outputs": [],
   "source": [
    "article_category = {}\n",
    "for row in range(len(df_category)):\n",
    "    article_category[(df_category[1][row])] = [(df_category[2][row])]\n",
    "    \n",
    "    if (df_category[3][row]) != None:\n",
    "        article_category[(df_category[1][row])].append(df_category[3][row])\n",
    "    if (df_category[4][row]) != None:\n",
    "        article_category[(df_category[1][row])].append(df_category[4][row])"
   ]
  },
  {
   "cell_type": "code",
   "execution_count": 79,
   "metadata": {},
   "outputs": [],
   "source": [
    "i = 0\n",
    "category_pair_path_finished = {}\n",
    "for info in df_path_finished:\n",
    "    info = info.split()\n",
    "    article = info[3].replace(\";\", \" \")\n",
    "    back = (article.count('<'))\n",
    "    article = article.replace(\"< \", \"\")\n",
    "    article = list(article.split(\" \"))\n",
    "    source = article[0]\n",
    "    target = article[-1]\n",
    "    \n",
    "    for category1 in article_category[article_id[source]]:\n",
    "        if target in article_id:\n",
    "            for category2 in article_category[article_id[target]]:\n",
    "                if (category1 + \"/\" + category2) in category_pair_path_finished:\n",
    "                    category_pair_path_finished[category1 + \"/\" + category2].append(float(ratio[i]))\n",
    "                else:\n",
    "                    category_pair_path_finished[category1 + \"/\" + category2] = [float(ratio[i])]\n",
    "\n",
    "    \n",
    "    i = i + 1\n",
    "                \n",
    "           \n",
    "\n",
    "for c in category_pair_path_finished:\n",
    "    category_pair_path_finished[c] = (mean(category_pair_path_finished[c]))"
   ]
  },
  {
   "cell_type": "code",
   "execution_count": 68,
   "metadata": {},
   "outputs": [],
   "source": [
    "category_ratio = []\n",
    "for c_p in category_pair_path_finished:\n",
    "    ratio = category_pair_path_finished[c_p]\n",
    "    c_p = c_p.split(\"/\")\n",
    "    category_ratio.append([c_p[0], c_p[1], ratio])\n",
    "    "
   ]
  },
  {
   "cell_type": "code",
   "execution_count": 70,
   "metadata": {},
   "outputs": [],
   "source": [
    "df_category_ratio = pd.DataFrame(category_ratio)\n",
    "df_category_ratio.to_csv (r'category-ratios.csv', header=False)"
   ]
  },
  {
   "cell_type": "code",
   "execution_count": null,
   "metadata": {},
   "outputs": [],
   "source": []
  },
  {
   "cell_type": "code",
   "execution_count": null,
   "metadata": {},
   "outputs": [],
   "source": []
  },
  {
   "cell_type": "code",
   "execution_count": null,
   "metadata": {},
   "outputs": [],
   "source": []
  },
  {
   "cell_type": "code",
   "execution_count": null,
   "metadata": {},
   "outputs": [],
   "source": []
  },
  {
   "cell_type": "code",
   "execution_count": null,
   "metadata": {},
   "outputs": [],
   "source": []
  },
  {
   "cell_type": "code",
   "execution_count": null,
   "metadata": {},
   "outputs": [],
   "source": []
  },
  {
   "cell_type": "code",
   "execution_count": null,
   "metadata": {},
   "outputs": [],
   "source": []
  },
  {
   "cell_type": "code",
   "execution_count": null,
   "metadata": {},
   "outputs": [],
   "source": []
  }
 ],
 "metadata": {
  "kernelspec": {
   "display_name": "Python 3",
   "language": "python",
   "name": "python3"
  },
  "language_info": {
   "codemirror_mode": {
    "name": "ipython",
    "version": 3
   },
   "file_extension": ".py",
   "mimetype": "text/x-python",
   "name": "python",
   "nbconvert_exporter": "python",
   "pygments_lexer": "ipython3",
   "version": "3.7.6"
  }
 },
 "nbformat": 4,
 "nbformat_minor": 4
}
