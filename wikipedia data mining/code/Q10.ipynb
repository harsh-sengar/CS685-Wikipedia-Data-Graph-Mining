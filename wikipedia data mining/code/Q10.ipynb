{
 "cells": [
  {
   "cell_type": "code",
   "execution_count": 18,
   "metadata": {},
   "outputs": [],
   "source": [
    "import pandas as pd\n",
    "import numpy as np"
   ]
  },
  {
   "cell_type": "code",
   "execution_count": 19,
   "metadata": {},
   "outputs": [],
   "source": [
    "df_path_unfinished = pd.read_csv(\"paths_unfinished.tsv\", delimiter = '\\n', header = None)"
   ]
  },
  {
   "cell_type": "code",
   "execution_count": 20,
   "metadata": {},
   "outputs": [],
   "source": [
    "df_path_unfinished = df_path_unfinished[16:]"
   ]
  },
  {
   "cell_type": "code",
   "execution_count": 21,
   "metadata": {},
   "outputs": [],
   "source": [
    "df_path_unfinished = df_path_unfinished[0]"
   ]
  },
  {
   "cell_type": "code",
   "execution_count": null,
   "metadata": {},
   "outputs": [],
   "source": []
  },
  {
   "cell_type": "code",
   "execution_count": 22,
   "metadata": {},
   "outputs": [],
   "source": [
    "df_path_finished = pd.read_csv(\"paths_finished.tsv\", delimiter = '\\n', header = None)"
   ]
  },
  {
   "cell_type": "code",
   "execution_count": 23,
   "metadata": {},
   "outputs": [],
   "source": [
    "df_path_finished = df_path_finished[15:]\n",
    "df_path_finished = df_path_finished[0]"
   ]
  },
  {
   "cell_type": "code",
   "execution_count": 24,
   "metadata": {},
   "outputs": [],
   "source": [
    "df_category = pd.read_csv(\"article-categories.csv\", header = None)\n",
    "df_category = df_category.where(pd.notnull(df_category), None)"
   ]
  },
  {
   "cell_type": "code",
   "execution_count": 25,
   "metadata": {},
   "outputs": [],
   "source": [
    "article_category = {}\n",
    "for row in range(len(df_category)):\n",
    "    article_category[(df_category[1][row])] = [(df_category[2][row])]\n",
    "    \n",
    "    if (df_category[3][row]) != None:\n",
    "        article_category[(df_category[1][row])].append(df_category[3][row])\n",
    "    if (df_category[4][row]) != None:\n",
    "        article_category[(df_category[1][row])].append(df_category[4][row])"
   ]
  },
  {
   "cell_type": "code",
   "execution_count": 26,
   "metadata": {},
   "outputs": [],
   "source": [
    "article_id = pd.read_csv('article-ids.csv', header = None)\n",
    "del article_id[0]\n",
    "article1 = list(article_id[1])\n",
    "article2 = list(article_id[2])\n",
    "\n",
    "article_id = {article1[i] : article2[i] for i in range(len(article1))}"
   ]
  },
  {
   "cell_type": "code",
   "execution_count": 27,
   "metadata": {},
   "outputs": [],
   "source": [
    "category_id = pd.read_csv('category-ids.csv', header = None)\n",
    "del category_id[0]\n",
    "category1 = list(category_id[1])\n",
    "category2 = list(category_id[2])\n",
    "\n",
    "category_id = {category2[i] : category1[i] for i in range(len(category1))}"
   ]
  },
  {
   "cell_type": "code",
   "execution_count": 28,
   "metadata": {},
   "outputs": [],
   "source": [
    "def sub_categories(source, target):\n",
    "    source = source.replace(\".\", \" \")\n",
    "    source = list(source.split(\" \"))\n",
    "    target = target.replace(\".\", \" \")\n",
    "    target = list(target.split(\" \"))\n",
    "    \n",
    "    category_pair = []\n",
    "    \n",
    "    s_cat = \"\"\n",
    "    \n",
    "    for s in source:\n",
    "        if s_cat != \"\":\n",
    "            s_cat = s_cat + \".\" + s\n",
    "        else:\n",
    "            s_cat = s\n",
    "        t_cat = \"\"\n",
    "        for t in target:\n",
    "            if t_cat != \"\":\n",
    "                t_cat = t_cat + \".\" + t\n",
    "            else:\n",
    "                t_cat = t\n",
    "            category_pair.append((s_cat, t_cat))\n",
    "    \n",
    "    return category_pair"
   ]
  },
  {
   "cell_type": "code",
   "execution_count": 29,
   "metadata": {},
   "outputs": [],
   "source": [
    "category_pair_path_unfinished = {}\n",
    "for info in df_path_unfinished:\n",
    "    info = info.split()\n",
    "    article = info[3].replace(\";\", \" \")\n",
    "    back = (article.count('<'))\n",
    "    article = article.replace(\"< \", \"\")\n",
    "    article = list(article.split(\" \"))\n",
    "    source = article[0]\n",
    "    target = info[4]\n",
    "\n",
    "    \n",
    "    for category1 in article_category[article_id[source]]:\n",
    "        if target in article_id:\n",
    "            for category2 in article_category[article_id[target]]:\n",
    "                category_pair = sub_categories(category_id[category1], category_id[category2])\n",
    "                \n",
    "                for cat1, cat2 in category_pair:\n",
    "                    if (cat1 + \"/\" + cat2) in category_pair_path_unfinished:\n",
    "                        category_pair_path_unfinished[cat1 + \"/\" + cat2] = category_pair_path_unfinished[cat1 + \"/\" + cat2] + 1\n",
    "                    else:\n",
    "                        category_pair_path_unfinished[cat1 + \"/\" + cat2] = 1\n",
    "\n"
   ]
  },
  {
   "cell_type": "code",
   "execution_count": 30,
   "metadata": {},
   "outputs": [],
   "source": [
    "category_pair_path_finished = {}\n",
    "for info in df_path_finished:\n",
    "    info = info.split()\n",
    "    article = info[3].replace(\";\", \" \")\n",
    "    back = (article.count('<'))\n",
    "    article = article.replace(\"< \", \"\")\n",
    "    article = list(article.split(\" \"))\n",
    "    source = article[0]\n",
    "    target = article[-1]\n",
    "    \n",
    "    for category1 in article_category[article_id[source]]:\n",
    "        if target in article_id:\n",
    "            for category2 in article_category[article_id[target]]:\n",
    "                category_pair = sub_categories(category_id[category1], category_id[category2])\n",
    "                \n",
    "                for cat1, cat2 in category_pair:\n",
    "                    if (cat1 + \"/\" + cat2) in category_pair_path_finished:\n",
    "                        category_pair_path_finished[cat1 + \"/\" + cat2] = category_pair_path_finished[cat1 + \"/\" + cat2] + 1\n",
    "                    else:\n",
    "                        category_pair_path_finished[cat1 + \"/\" + cat2] = 1\n",
    "\n"
   ]
  },
  {
   "cell_type": "code",
   "execution_count": 31,
   "metadata": {},
   "outputs": [
    {
     "data": {
      "text/plain": [
       "[('subject', 'subject'),\n",
       " ('subject', 'subject.Art'),\n",
       " ('subject.science', 'subject'),\n",
       " ('subject.science', 'subject.Art')]"
      ]
     },
     "execution_count": 31,
     "metadata": {},
     "output_type": "execute_result"
    }
   ],
   "source": [
    "sub_categories(\"subject.science\", \"subject.Art\")"
   ]
  },
  {
   "cell_type": "code",
   "execution_count": null,
   "metadata": {},
   "outputs": [],
   "source": []
  },
  {
   "cell_type": "code",
   "execution_count": 32,
   "metadata": {},
   "outputs": [],
   "source": [
    "category_pairs = []\n",
    "for cat_pair in category_pair_path_unfinished:\n",
    "    c1 = 0\n",
    "    c2 = 0\n",
    "    if cat_pair in category_pair_path_finished:\n",
    "        c1 = category_pair_path_finished[cat_pair]\n",
    "    if cat_pair in category_pair_path_unfinished:\n",
    "        c2 = category_pair_path_unfinished[cat_pair]\n",
    "        \n",
    "    c1_p = c1/(c1+c2)\n",
    "    c2_p = c2/(c1+c2)\n",
    "    \n",
    "    cat_pair = cat_pair.split(\"/\")\n",
    "    source = cat_pair[0]\n",
    "    target = cat_pair[1]\n",
    "    category_pairs.append([source, target, c1_p*100, c2_p*100])"
   ]
  },
  {
   "cell_type": "code",
   "execution_count": null,
   "metadata": {},
   "outputs": [],
   "source": []
  },
  {
   "cell_type": "code",
   "execution_count": 33,
   "metadata": {},
   "outputs": [],
   "source": [
    "df_category_pairs = pd.DataFrame(category_pairs)\n",
    "df_category_pairs.to_csv (r'category-pairs.csv', header=[\"From_Category\", \"To_Category\", \"Percentage_of_finished_paths\", \"Percentage_of_unfinished_paths\"])\n"
   ]
  },
  {
   "cell_type": "code",
   "execution_count": null,
   "metadata": {},
   "outputs": [],
   "source": []
  },
  {
   "cell_type": "code",
   "execution_count": null,
   "metadata": {},
   "outputs": [],
   "source": []
  },
  {
   "cell_type": "code",
   "execution_count": null,
   "metadata": {},
   "outputs": [],
   "source": []
  },
  {
   "cell_type": "code",
   "execution_count": null,
   "metadata": {},
   "outputs": [],
   "source": []
  },
  {
   "cell_type": "code",
   "execution_count": null,
   "metadata": {},
   "outputs": [],
   "source": []
  },
  {
   "cell_type": "code",
   "execution_count": null,
   "metadata": {},
   "outputs": [],
   "source": []
  }
 ],
 "metadata": {
  "kernelspec": {
   "display_name": "Python 3",
   "language": "python",
   "name": "python3"
  },
  "language_info": {
   "codemirror_mode": {
    "name": "ipython",
    "version": 3
   },
   "file_extension": ".py",
   "mimetype": "text/x-python",
   "name": "python",
   "nbconvert_exporter": "python",
   "pygments_lexer": "ipython3",
   "version": "3.7.6"
  }
 },
 "nbformat": 4,
 "nbformat_minor": 4
}
