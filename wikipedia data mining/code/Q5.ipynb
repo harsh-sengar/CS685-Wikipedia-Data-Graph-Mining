{
 "cells": [
  {
   "cell_type": "code",
   "execution_count": 1,
   "metadata": {},
   "outputs": [],
   "source": [
    "import pandas as pd\n",
    "import collections\n",
    "import networkx as nx"
   ]
  },
  {
   "cell_type": "code",
   "execution_count": 2,
   "metadata": {},
   "outputs": [],
   "source": [
    "df = pd.read_csv(\"edges.csv\", header = None)"
   ]
  },
  {
   "cell_type": "code",
   "execution_count": 3,
   "metadata": {},
   "outputs": [],
   "source": [
    "node1 = df[1]\n",
    "node2 = df[2]"
   ]
  },
  {
   "cell_type": "code",
   "execution_count": 4,
   "metadata": {},
   "outputs": [],
   "source": [
    "i = 0\n",
    "adj_list = {}\n",
    "for node in node1:\n",
    "    if node not in adj_list:\n",
    "                adj_list[node] = []\n",
    "    if node2[i] not in adj_list:\n",
    "                adj_list[node2[i]] = []\n",
    "    adj_list[node].append(node2[i])\n",
    "    adj_list[node2[i]].append(node)\n",
    "    \n",
    "    i = i + 1"
   ]
  },
  {
   "cell_type": "code",
   "execution_count": null,
   "metadata": {},
   "outputs": [],
   "source": []
  },
  {
   "cell_type": "code",
   "execution_count": 5,
   "metadata": {},
   "outputs": [],
   "source": [
    "for node in adj_list:\n",
    "    adj_list[node] = list(set(adj_list[node]))"
   ]
  },
  {
   "cell_type": "code",
   "execution_count": null,
   "metadata": {},
   "outputs": [],
   "source": []
  },
  {
   "cell_type": "code",
   "execution_count": 6,
   "metadata": {},
   "outputs": [],
   "source": [
    "adj_list = dict(collections.OrderedDict(sorted(adj_list.items())))"
   ]
  },
  {
   "cell_type": "code",
   "execution_count": 7,
   "metadata": {},
   "outputs": [],
   "source": [
    "def bfs(visited, queue, graph, node):\n",
    "    visited.append(node)\n",
    "    queue.append(node)\n",
    "    component = []\n",
    "    diameter = {}\n",
    "    dia = 0\n",
    "    target = \"\"\n",
    "    while queue:\n",
    "        s = queue.pop(0) \n",
    "        component.append(s) \n",
    "        if s not in diameter:\n",
    "            diameter[s] = 0\n",
    "        if s in graph:\n",
    "            for neighbour in graph[s]:\n",
    "                  if neighbour not in visited:\n",
    "                    visited.append(neighbour)\n",
    "                    queue.append(neighbour)\n",
    "                    diameter[neighbour] = diameter[s] + 1 \n",
    "        target = s\n",
    "    return component, diameter[target], target"
   ]
  },
  {
   "cell_type": "code",
   "execution_count": 8,
   "metadata": {},
   "outputs": [],
   "source": [
    "def diameter(component,graph):\n",
    "    visited = [] \n",
    "    queue = []  \n",
    "    \n",
    "    adj_list = {}\n",
    "    for node in component:\n",
    "        adj_list[node] = []\n",
    "        if node in graph:\n",
    "            adj_list[node] = graph[node]\n",
    "    \n",
    "    component, dia, target = bfs(visited, queue, adj_list, component[0])\n",
    "    \n",
    "    visited = [] \n",
    "    queue = []  \n",
    "    \n",
    "    component, dia, target = bfs(visited, queue, adj_list, target)\n",
    "    \n",
    "    return dia"
   ]
  },
  {
   "cell_type": "code",
   "execution_count": 9,
   "metadata": {},
   "outputs": [],
   "source": [
    "def findConnected(graph):\n",
    "    graph_components = []\n",
    "    components = []\n",
    "    visited = [] \n",
    "    queue = []  \n",
    "    node = 0\n",
    "    for i in range(1,4605):\n",
    "        if((\"A\"+\"%04d\"%i) not in visited):\n",
    "            component, length, target = bfs(visited, queue, graph, \"A\"+\"%04d\"%i)\n",
    "            components.append(component)\n",
    "            dia = diameter(component, graph)\n",
    "            edge = 0\n",
    "            for node in component:\n",
    "                if node in graph:\n",
    "                    edge = edge + len(graph[node])\n",
    "                    \n",
    "            graph_components.append((len(component), int(edge/2), dia))\n",
    "    return graph_components"
   ]
  },
  {
   "cell_type": "code",
   "execution_count": 10,
   "metadata": {},
   "outputs": [],
   "source": [
    "graph_components = findConnected(adj_list)"
   ]
  },
  {
   "cell_type": "code",
   "execution_count": 11,
   "metadata": {},
   "outputs": [],
   "source": [
    "df_components = pd.DataFrame(graph_components)\n",
    "df_components.to_csv (r'graph-components.csv', header= [\"Nodes\", \"Edges\", \"Diameter\"])"
   ]
  },
  {
   "cell_type": "code",
   "execution_count": null,
   "metadata": {},
   "outputs": [],
   "source": []
  },
  {
   "cell_type": "code",
   "execution_count": null,
   "metadata": {},
   "outputs": [],
   "source": []
  },
  {
   "cell_type": "code",
   "execution_count": 12,
   "metadata": {},
   "outputs": [
    {
     "data": {
      "text/plain": [
       "[(4589, 106534, 5),\n",
       " (1, 0, 0),\n",
       " (1, 0, 0),\n",
       " (3, 3, 1),\n",
       " (1, 0, 0),\n",
       " (1, 0, 0),\n",
       " (1, 0, 0),\n",
       " (1, 0, 0),\n",
       " (1, 0, 0),\n",
       " (1, 0, 0),\n",
       " (1, 0, 0),\n",
       " (1, 0, 0),\n",
       " (1, 0, 0),\n",
       " (1, 0, 0)]"
      ]
     },
     "execution_count": 12,
     "metadata": {},
     "output_type": "execute_result"
    }
   ],
   "source": [
    "graph_components"
   ]
  },
  {
   "cell_type": "code",
   "execution_count": 13,
   "metadata": {},
   "outputs": [],
   "source": [
    "G = nx.DiGraph()\n",
    "for node1 in adj_list:\n",
    "    for node2 in adj_list[node1]:\n",
    "        G.add_edge(node1, node2)"
   ]
  },
  {
   "cell_type": "code",
   "execution_count": null,
   "metadata": {},
   "outputs": [],
   "source": []
  },
  {
   "cell_type": "code",
   "execution_count": null,
   "metadata": {},
   "outputs": [],
   "source": []
  },
  {
   "cell_type": "code",
   "execution_count": null,
   "metadata": {},
   "outputs": [],
   "source": []
  },
  {
   "cell_type": "code",
   "execution_count": null,
   "metadata": {},
   "outputs": [],
   "source": []
  },
  {
   "cell_type": "code",
   "execution_count": null,
   "metadata": {},
   "outputs": [],
   "source": []
  },
  {
   "cell_type": "code",
   "execution_count": null,
   "metadata": {},
   "outputs": [],
   "source": []
  }
 ],
 "metadata": {
  "kernelspec": {
   "display_name": "Python 3",
   "language": "python",
   "name": "python3"
  },
  "language_info": {
   "codemirror_mode": {
    "name": "ipython",
    "version": 3
   },
   "file_extension": ".py",
   "mimetype": "text/x-python",
   "name": "python",
   "nbconvert_exporter": "python",
   "pygments_lexer": "ipython3",
   "version": "3.7.6"
  }
 },
 "nbformat": 4,
 "nbformat_minor": 4
}
