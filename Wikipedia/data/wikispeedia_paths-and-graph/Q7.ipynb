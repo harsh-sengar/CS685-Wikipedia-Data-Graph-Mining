{
 "cells": [
  {
   "cell_type": "code",
   "execution_count": 1,
   "metadata": {},
   "outputs": [],
   "source": [
    "import pandas as pd\n",
    "import numpy as np"
   ]
  },
  {
   "cell_type": "code",
   "execution_count": 2,
   "metadata": {},
   "outputs": [],
   "source": [
    "df_finished_paths_noback = pd.read_csv(\"finished-paths-no-back.csv\", header = None)"
   ]
  },
  {
   "cell_type": "code",
   "execution_count": 3,
   "metadata": {},
   "outputs": [],
   "source": [
    "exact_length = 0\n",
    "larger_by = {1:0, 2:0, 3:0 ,4:0, 5:0, 6:0, 7:0, 8:0, 9:0, 10:0, 11:0}\n",
    "\n",
    "for i in range(len(df_finished_paths_noback)):\n",
    "    if(df_finished_paths_noback[1][i] == df_finished_paths_noback[2][i]):\n",
    "        exact_length = exact_length + 1\n",
    "    elif((df_finished_paths_noback[1][i] - df_finished_paths_noback[2][i]) <= 10):\n",
    "        larger_by[(df_finished_paths_noback[1][i] - df_finished_paths_noback[2][i])] = larger_by[(df_finished_paths_noback[1][i] - df_finished_paths_noback[2][i])] + 1\n",
    "    if((df_finished_paths_noback[1][i] - df_finished_paths_noback[2][i]) >= 11):\n",
    "        larger_by[11] = larger_by[11] + 1\n"
   ]
  },
  {
   "cell_type": "code",
   "execution_count": 4,
   "metadata": {},
   "outputs": [
    {
     "data": {
      "text/plain": [
       "51318"
      ]
     },
     "execution_count": 4,
     "metadata": {},
     "output_type": "execute_result"
    }
   ],
   "source": [
    "len(df_finished_paths_noback)"
   ]
  },
  {
   "cell_type": "code",
   "execution_count": 5,
   "metadata": {},
   "outputs": [],
   "source": [
    "exact_length = (exact_length*100)/len(df_finished_paths_noback)"
   ]
  },
  {
   "cell_type": "code",
   "execution_count": 6,
   "metadata": {},
   "outputs": [],
   "source": [
    "for large in larger_by:\n",
    "    larger_by[large] = (larger_by[large]*100)/len(df_finished_paths_noback)"
   ]
  },
  {
   "cell_type": "code",
   "execution_count": 7,
   "metadata": {},
   "outputs": [
    {
     "data": {
      "text/plain": [
       "[25.22116995985814,\n",
       " 19.27199033477532,\n",
       " 12.701196461280642,\n",
       " 7.958221286877898,\n",
       " 4.764410148485911,\n",
       " 3.0379204177871313,\n",
       " 2.026579367863128,\n",
       " 1.2198448887329982,\n",
       " 0.9821115398105927,\n",
       " 0.623562882419424,\n",
       " 2.207802330566273]"
      ]
     },
     "execution_count": 7,
     "metadata": {},
     "output_type": "execute_result"
    }
   ],
   "source": [
    "list(larger_by.values())"
   ]
  },
  {
   "cell_type": "code",
   "execution_count": 8,
   "metadata": {},
   "outputs": [
    {
     "data": {
      "text/plain": [
       "19.985190381542537"
      ]
     },
     "execution_count": 8,
     "metadata": {},
     "output_type": "execute_result"
    }
   ],
   "source": [
    "exact_length"
   ]
  },
  {
   "cell_type": "code",
   "execution_count": 9,
   "metadata": {},
   "outputs": [],
   "source": [
    "percentage_paths_noback = []\n",
    "percentage_paths_noback.append(exact_length)\n",
    "percentage_paths_noback = percentage_paths_noback + list(larger_by.values())"
   ]
  },
  {
   "cell_type": "code",
   "execution_count": null,
   "metadata": {},
   "outputs": [],
   "source": []
  },
  {
   "cell_type": "code",
   "execution_count": 10,
   "metadata": {},
   "outputs": [
    {
     "data": {
      "text/plain": [
       "[19.985190381542537,\n",
       " 25.22116995985814,\n",
       " 19.27199033477532,\n",
       " 12.701196461280642,\n",
       " 7.958221286877898,\n",
       " 4.764410148485911,\n",
       " 3.0379204177871313,\n",
       " 2.026579367863128,\n",
       " 1.2198448887329982,\n",
       " 0.9821115398105927,\n",
       " 0.623562882419424,\n",
       " 2.207802330566273]"
      ]
     },
     "execution_count": 10,
     "metadata": {},
     "output_type": "execute_result"
    }
   ],
   "source": [
    "percentage_paths_noback"
   ]
  },
  {
   "cell_type": "code",
   "execution_count": null,
   "metadata": {},
   "outputs": [],
   "source": []
  },
  {
   "cell_type": "code",
   "execution_count": 11,
   "metadata": {},
   "outputs": [],
   "source": [
    "df_percentage_paths_noback = pd.DataFrame(percentage_paths_noback)\n",
    "df_percentage_paths_noback.to_csv (r'percentage-paths-no-back.csv', header=False)"
   ]
  },
  {
   "cell_type": "code",
   "execution_count": null,
   "metadata": {},
   "outputs": [],
   "source": []
  },
  {
   "cell_type": "code",
   "execution_count": null,
   "metadata": {},
   "outputs": [],
   "source": []
  },
  {
   "cell_type": "code",
   "execution_count": 12,
   "metadata": {},
   "outputs": [],
   "source": [
    "df_finished_paths_back = pd.read_csv(\"finished-paths-back.csv\", header = None)"
   ]
  },
  {
   "cell_type": "code",
   "execution_count": null,
   "metadata": {},
   "outputs": [],
   "source": []
  },
  {
   "cell_type": "code",
   "execution_count": 13,
   "metadata": {},
   "outputs": [],
   "source": [
    "exact_length = 0\n",
    "larger_by = {1:0, 2:0, 3:0 ,4:0, 5:0, 6:0, 7:0, 8:0, 9:0, 10:0, 11:0}\n",
    "\n",
    "for i in range(len(df_finished_paths_back)):\n",
    "    if(df_finished_paths_back[1][i] == df_finished_paths_back[2][i]):\n",
    "        exact_length = exact_length + 1\n",
    "    elif((df_finished_paths_back[1][i] - df_finished_paths_back[2][i]) <= 10):\n",
    "        larger_by[(df_finished_paths_back[1][i] - df_finished_paths_back[2][i])] = larger_by[(df_finished_paths_back[1][i] - df_finished_paths_back[2][i])] + 1\n",
    "    if((df_finished_paths_back[1][i] - df_finished_paths_back[2][i]) >= 11):\n",
    "        larger_by[11] = larger_by[11] + 1\n"
   ]
  },
  {
   "cell_type": "code",
   "execution_count": 14,
   "metadata": {},
   "outputs": [
    {
     "data": {
      "text/plain": [
       "51318"
      ]
     },
     "execution_count": 14,
     "metadata": {},
     "output_type": "execute_result"
    }
   ],
   "source": [
    "len(df_finished_paths_back)"
   ]
  },
  {
   "cell_type": "code",
   "execution_count": null,
   "metadata": {},
   "outputs": [],
   "source": []
  },
  {
   "cell_type": "code",
   "execution_count": 15,
   "metadata": {},
   "outputs": [],
   "source": [
    "exact_length = (exact_length*100)/len(df_finished_paths_back)"
   ]
  },
  {
   "cell_type": "code",
   "execution_count": 16,
   "metadata": {},
   "outputs": [],
   "source": [
    "for large in larger_by:\n",
    "    larger_by[large] = (larger_by[large]*100)/len(df_finished_paths_back)"
   ]
  },
  {
   "cell_type": "code",
   "execution_count": 17,
   "metadata": {},
   "outputs": [
    {
     "data": {
      "text/plain": [
       "19.985190381542537"
      ]
     },
     "execution_count": 17,
     "metadata": {},
     "output_type": "execute_result"
    }
   ],
   "source": [
    "exact_length"
   ]
  },
  {
   "cell_type": "code",
   "execution_count": 18,
   "metadata": {},
   "outputs": [],
   "source": [
    "percentage_paths_back = []\n",
    "percentage_paths_back.append(exact_length)\n",
    "percentage_paths_back = percentage_paths_back + list(larger_by.values())"
   ]
  },
  {
   "cell_type": "code",
   "execution_count": 19,
   "metadata": {},
   "outputs": [
    {
     "data": {
      "text/plain": [
       "100.0"
      ]
     },
     "execution_count": 19,
     "metadata": {},
     "output_type": "execute_result"
    }
   ],
   "source": [
    "np.array(percentage_paths_back).sum()"
   ]
  },
  {
   "cell_type": "code",
   "execution_count": 20,
   "metadata": {},
   "outputs": [
    {
     "data": {
      "text/plain": [
       "[19.985190381542537,\n",
       " 23.7752835262481,\n",
       " 17.835847071203087,\n",
       " 12.001636852566351,\n",
       " 7.928991776764488,\n",
       " 5.087883393740988,\n",
       " 3.427647219299271,\n",
       " 2.3714875872013716,\n",
       " 1.6310066643283059,\n",
       " 1.1906153786195877,\n",
       " 0.8944230094703612,\n",
       " 3.8699871390155502]"
      ]
     },
     "execution_count": 20,
     "metadata": {},
     "output_type": "execute_result"
    }
   ],
   "source": [
    "percentage_paths_back"
   ]
  },
  {
   "cell_type": "code",
   "execution_count": 21,
   "metadata": {},
   "outputs": [],
   "source": [
    "df_percentage_paths_back = pd.DataFrame(percentage_paths_back)\n",
    "df_percentage_paths_back.to_csv (r'percentage-paths-back.csv', header=False)"
   ]
  },
  {
   "cell_type": "code",
   "execution_count": null,
   "metadata": {},
   "outputs": [],
   "source": []
  },
  {
   "cell_type": "code",
   "execution_count": null,
   "metadata": {},
   "outputs": [],
   "source": []
  },
  {
   "cell_type": "code",
   "execution_count": null,
   "metadata": {},
   "outputs": [],
   "source": []
  },
  {
   "cell_type": "code",
   "execution_count": null,
   "metadata": {},
   "outputs": [],
   "source": []
  },
  {
   "cell_type": "code",
   "execution_count": null,
   "metadata": {},
   "outputs": [],
   "source": []
  },
  {
   "cell_type": "code",
   "execution_count": null,
   "metadata": {},
   "outputs": [],
   "source": []
  },
  {
   "cell_type": "code",
   "execution_count": null,
   "metadata": {},
   "outputs": [],
   "source": []
  }
 ],
 "metadata": {
  "kernelspec": {
   "display_name": "Python 3",
   "language": "python",
   "name": "python3"
  },
  "language_info": {
   "codemirror_mode": {
    "name": "ipython",
    "version": 3
   },
   "file_extension": ".py",
   "mimetype": "text/x-python",
   "name": "python",
   "nbconvert_exporter": "python",
   "pygments_lexer": "ipython3",
   "version": "3.7.6"
  }
 },
 "nbformat": 4,
 "nbformat_minor": 4
}
